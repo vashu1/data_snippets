{
 "cells": [
  {
   "cell_type": "code",
   "execution_count": 82,
   "id": "01b66cde",
   "metadata": {},
   "outputs": [],
   "source": [
    "import scipy.optimize\n",
    "import numpy as np\n",
    "import matplotlib.pyplot as plt\n",
    "import math\n",
    "import random"
   ]
  },
  {
   "cell_type": "code",
   "execution_count": 40,
   "id": "aa9792bf",
   "metadata": {},
   "outputs": [],
   "source": [
    "def run_model(matter, t=int(1e6), secondary_decay_ratio=0):  # matter - [[weight, half_life], ...], t - emulation time\n",
    "    ts = list(range(t+1))\n",
    "    ys = []\n",
    "    for t in ts:\n",
    "      ys.append(0)\n",
    "      for indx in range(len(matter)):\n",
    "        weight, half_life = matter[indx]\n",
    "        dv = weight / 2 / half_life\n",
    "        matter[indx][0] -= dv\n",
    "        ys[-1] += dv\n",
    "      for indx in range(len(matter)):\n",
    "        matter[indx][0] += ys[-1] * secondary_decay_ratio / len(matter)\n",
    "    return ts, ys\n",
    "\n",
    "\n",
    "def get_error(f, ts, ys, params):\n",
    "  errors = [(f(t, *params) - y)**2 for t, y in zip(ts, ys)]\n",
    "  return sum(errors)\n",
    "\n",
    "\n",
    "def print_fit_error(f, ts, ys, p0=None):\n",
    "  (a, b), _ = scipy.optimize.curve_fit(hyperbolic,  ts,  ys,  p0=p0)\n",
    "  print(get_error(f, ts, ys, (a, b)))\n",
    "\n",
    "\n",
    "def hyperbolic(t, a, b):\n",
    "    return a / (t - b)\n",
    "\n",
    "\n",
    "def exponential(t, a, b):\n",
    "    return a * np.exp(b * t)\n",
    "\n",
    "\n",
    "def drop_points(ts, ys, drop_n):\n",
    "    if drop_n > 0:\n",
    "        return ts[drop_n:], ys[drop_n:]\n",
    "    else:\n",
    "        return ts[:-drop_n], ys[:-drop_n]\n",
    "\n",
    "\n",
    "def plot_log(*args):\n",
    "    plt.yscale(\"log\")\n",
    "    #for ts, ys in np.array_split(args, 2):\n",
    "    for ys in args:\n",
    "        plt.plot(sorted(ys))\n",
    "    plt.show()"
   ]
  },
  {
   "cell_type": "code",
   "execution_count": 30,
   "id": "30c63719",
   "metadata": {},
   "outputs": [
    {
     "name": "stdout",
     "output_type": "stream",
     "text": [
      "6.0355889069195126\n",
      "5.854727916700637\n"
     ]
    }
   ],
   "source": [
    "# hyperbola is not much better than exponent\n",
    "matter = [[1.0, 2**(i/2)] for i in range(54)]  # half life from 1 sec to 1e8\n",
    "ts, ys = run_model(matter)\n",
    "print_fit_error(hyperbolic, ts, ys, (1, 0.1))\n",
    "print_fit_error(exponential, ts, ys, (1, -1))"
   ]
  },
  {
   "cell_type": "code",
   "execution_count": 31,
   "id": "e9ff5b56",
   "metadata": {},
   "outputs": [
    {
     "name": "stdout",
     "output_type": "stream",
     "text": [
      "1.682295336896451e-10\n",
      "0.7921897051176392\n"
     ]
    }
   ],
   "source": [
    "# how hyperbola fit if we drop some points - now it is OK\n",
    "drop_first_seconds = 10\n",
    "ts, ys = drop_points(ts, ys, drop_first_seconds)\n",
    "print_fit_error(hyperbolic, ts, ys, (1, 0.1))\n",
    "print_fit_error(exponential, ts, ys, (1, -1))"
   ]
  },
  {
   "cell_type": "code",
   "execution_count": 32,
   "id": "f9a1b0a2",
   "metadata": {},
   "outputs": [
    {
     "data": {
      "image/png": "[encoded data removed]",
      "text/plain": [
       "<Figure size 432x288 with 1 Axes>"
      ]
     },
     "metadata": {
      "needs_background": "light"
     },
     "output_type": "display_data"
    }
   ],
   "source": [
    "# distribution of isotopes after initial time\n",
    "ts, ys = run_model(matter, t=drop_first_seconds)\n",
    "plot_log([el[0] for el in matter], [1 for _ in range(len(matter))])"
   ]
  },
  {
   "cell_type": "code",
   "execution_count": 79,
   "id": "f2cee4ee",
   "metadata": {},
   "outputs": [
    {
     "name": "stdout",
     "output_type": "stream",
     "text": [
      "0.015673559344097393\n",
      "3.263046034032408\n"
     ]
    }
   ],
   "source": [
    "# non-linear distribution\n",
    "matter = [[1.0+0.9*math.sin(i/6), 2**(i/2)] for i in range(54)]  # half life from 1 sec to 1e8\n",
    "ts, ys = run_model(matter)\n",
    "ts, ys = drop_points(ts, ys, drop_first_seconds)\n",
    "print_fit_error(hyperbolic, ts, ys, (1, 0.1))\n",
    "print_fit_error(exponential, ts, ys, (1, -1))"
   ]
  },
  {
   "cell_type": "code",
   "execution_count": 80,
   "id": "20cc3389",
   "metadata": {},
   "outputs": [
    {
     "name": "stdout",
     "output_type": "stream",
     "text": [
      "0.012450354806950985\n",
      "1.6309411502787503\n"
     ]
    }
   ],
   "source": [
    "# secondary decay\n",
    "matter = [[1.0, 2**(i/2)] for i in range(54)]  # half life from 1 sec to 1e8\n",
    "ts, ys = run_model(matter, secondary_decay_ratio=0.9)\n",
    "ts, ys = drop_points(ts, ys, drop_first_seconds)\n",
    "print_fit_error(hyperbolic, ts, ys, (1, 0.1))\n",
    "print_fit_error(exponential, ts, ys, (1, -1))"
   ]
  },
  {
   "cell_type": "code",
   "execution_count": 91,
   "id": "c147e697",
   "metadata": {},
   "outputs": [
    {
     "name": "stdout",
     "output_type": "stream",
     "text": [
      "0.00046292132073517023\n",
      "0.029670600626408434\n"
     ]
    }
   ],
   "source": [
    "# random isotope amounts\n",
    "random.seed(0)\n",
    "matter = [[random.random(), 2**(i*2)] for i in range(14)]  # half life from 1 sec to 1e8 - 4x times less isotopes\n",
    "ts, ys = run_model(matter, secondary_decay_ratio=0.9)\n",
    "ts, ys = drop_points(ts, ys, drop_first_seconds)\n",
    "print_fit_error(hyperbolic, ts, ys, (1, 0.1))\n",
    "print_fit_error(exponential, ts, ys, (1, -1))"
   ]
  },
  {
   "cell_type": "code",
   "execution_count": null,
   "id": "3a5debcb",
   "metadata": {},
   "outputs": [],
   "source": []
  }
 ],
 "metadata": {
  "kernelspec": {
   "display_name": "Python 3 (ipykernel)",
   "language": "python",
   "name": "python3"
  },
  "language_info": {
   "codemirror_mode": {
    "name": "ipython",
    "version": 3
   },
   "file_extension": ".py",
   "mimetype": "text/x-python",
   "name": "python",
   "nbconvert_exporter": "python",
   "pygments_lexer": "ipython3",
   "version": "3.9.7"
  }
 },
 "nbformat": 4,
 "nbformat_minor": 5
}
