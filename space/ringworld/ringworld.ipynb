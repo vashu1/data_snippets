{
 "cells": [
  {
   "cell_type": "code",
   "execution_count": 18,
   "id": "511860c6",
   "metadata": {},
   "outputs": [],
   "source": [
    "# docker pull jupyter/datascience-notebook\n",
    "# docker run -p 8888:8888 -v `pwd`:/home/jovyan/work -it jupyter/datascience-notebook\n",
    "\n",
    "import math\n",
    "from typing import Tuple, List, Callable\n",
    "import scipy  # type: ignore\n",
    "import scipy.integrate  # type: ignore\n",
    "import matplotlib.pyplot as plt  # type: ignore"
   ]
  },
  {
   "cell_type": "code",
   "execution_count": 3,
   "id": "7a05737d",
   "metadata": {},
   "outputs": [],
   "source": [
    "SUN_MASS = 1.989e30\n",
    "\n",
    "# https://ru.wikipedia.org/wiki/%D0%9C%D0%B8%D1%80-%D0%9A%D0%BE%D0%BB%D1%8C%D1%86%D0%BE#%D0%9F%D0%B0%D1%80%D0%B0%D0%BC%D0%B5%D1%82%D1%80%D1%8B_%D0%9A%D0%BE%D0%BB%D1%8C%D1%86%D0%B0\n",
    "RING_MASS = 2e27  # kg\n",
    "RING_RADIUS = 1.53e11  # m\n",
    "RING_WIDTH = 1.6e9  # m\n",
    "\n",
    "INTEGRATION_TOP_STEPS = 720\n",
    "\n",
    "G = 6.67e-11\n",
    "\n",
    "SPLIT_RECT_REL_THRESHOLD = 0.1\n",
    "\n",
    "Point = Tuple[float, float, float]\n",
    "Rect = Tuple[Point, Point, Point, Point]"
   ]
  },
  {
   "cell_type": "code",
   "execution_count": 34,
   "id": "e6572513",
   "metadata": {},
   "outputs": [],
   "source": [
    "def avg(a: float, b: float) -> float:\n",
    "    return (a+b)/2\n",
    "\n",
    "\n",
    "def middle_point(p1: Point, p2: Point) -> Point:\n",
    "    x1, y1, z1 = p1\n",
    "    x2, y2, z2 = p2\n",
    "    return avg(x1, x2), avg(y1, y2), avg(z1, z2)\n",
    "\n",
    "\n",
    "def rect_center(rect: Rect) -> Point:\n",
    "    p1, p2, p3, p4 = rect\n",
    "    p12 = middle_point(p1, p2)\n",
    "    p34 = middle_point(p3, p4)\n",
    "    return middle_point(p12, p34)\n",
    "\n",
    "\n",
    "def split_rect(rect: Rect) -> List[Rect]:  # splits 1 rect in 4\n",
    "    p1, p2, p3, p4 = rect\n",
    "    p12 = middle_point(p1, p2)\n",
    "    p23 = middle_point(p2, p3)\n",
    "    p34 = middle_point(p3, p4)\n",
    "    p41 = middle_point(p4, p1)\n",
    "    center = rect_center(rect)\n",
    "    return [\n",
    "        (p1, p12, center, p41),\n",
    "        (p12, p2, p23, center),\n",
    "        (p41, center, p34, p4),\n",
    "        (center, p23, p3, p34),\n",
    "    ]\n",
    "\n",
    "\n",
    "def distance_square(p1: Point, p2: Point = (0, 0, 0)) -> float:\n",
    "    x1, y1, z1 = p1\n",
    "    x2, y2, z2 = p2\n",
    "    return (x1-x2)**2 + (y1-y2)**2 + (z1-z2)**2\n",
    "\n",
    "\n",
    "def distance(p1: Point, p2: Point = (0, 0, 0)) -> float:\n",
    "    return math.sqrt(distance_square(p1, p2))\n",
    "\n",
    "\n",
    "def sum_v(*vectors) -> Point:\n",
    "    return tuple(map(sum, zip(*vectors)))  # type: ignore\n",
    "\n",
    "\n",
    "def integrate_rect(rect: Rect, mass: float, point: Point) -> Point:\n",
    "    points = list(rect) + [rect_center(rect)]\n",
    "    distances = [distance(point, p) for p in points]\n",
    "    max_distance = max(distances)\n",
    "    min_distance = min(distances)\n",
    "    if max_distance < 1:\n",
    "        return 0, 0, 0  # point is inside ring so we stop recursion\n",
    "    rel = (max_distance - min_distance) / min_distance\n",
    "    if rel > SPLIT_RECT_REL_THRESHOLD:\n",
    "        return sum_v(*[integrate_rect(rect2, mass/4, point) for rect2 in split_rect(rect)])\n",
    "    else:\n",
    "        center = rect_center(rect)\n",
    "        length = G * mass / distance_square(center, point)\n",
    "        dist = distance(point, center)\n",
    "        k = length / dist\n",
    "        x1, y1, z1 = center\n",
    "        x2, y2, z2 = point\n",
    "        return (x1-x2)*k,(y1-y2)*k,(z1-z2)*k\n",
    "\n",
    "\n",
    "def integrate(point: Point) -> Point:\n",
    "    degree_step = 360/INTEGRATION_TOP_STEPS\n",
    "    acc = []\n",
    "    for i in range(INTEGRATION_TOP_STEPS):\n",
    "        degree = i * degree_step\n",
    "        radians = math.radians(degree)\n",
    "        radians2 = math.radians(degree + degree_step)\n",
    "        z = RING_WIDTH / 2\n",
    "        y1 = math.sin(radians) * RING_RADIUS\n",
    "        x1 = math.cos(radians) * RING_RADIUS\n",
    "        y2 = math.sin(radians2) * RING_RADIUS\n",
    "        x2 = math.cos(radians2) * RING_RADIUS\n",
    "        rect = (\n",
    "            (y1, x1, +z),\n",
    "            (y1, x1, -z),\n",
    "            (y2, x2, -z),\n",
    "            (y2, x2, +z),\n",
    "        )\n",
    "        acc.append(integrate_rect(rect, RING_MASS/INTEGRATION_TOP_STEPS, point))\n",
    "    return sum_v(*acc)\n",
    "\n",
    "def satellite_gv(height: float) -> Tuple[float, float]:\n",
    "    assert height > 0  # otherwise fix code to account for ring gravitation direction\n",
    "    r = RING_RADIUS - height\n",
    "    sun_g = G * SUN_MASS / (r ** 2)\n",
    "    ring_g_v = integrate((r, 0, 0))\n",
    "    g = sun_g - distance(ring_g_v)\n",
    "    satellite_v = math.sqrt(g * r)\n",
    "    return g, satellite_v\n",
    "\n",
    "\n",
    "def stability(height: float, dh: float = 1) -> bool:  # height relative to ring\n",
    "    g, satellite_v = satellite_gv(height)\n",
    "    g2, satellite_v2 = satellite_gv(height - dh)  # rise with positive dh, height above ring is lower\n",
    "    #\n",
    "    ped = (g+g2)/2*dh # potential energy differential\n",
    "    ke = satellite_v**2 / 2 # kinetic energy\n",
    "    ke2 = satellite_v2 ** 2 / 2\n",
    "    result = ke < (ke2 + ped)\n",
    "    #print(ke - (ke2 + ped))\n",
    "    if dh < 0:\n",
    "        result = not result\n",
    "    return result\n",
    "\n",
    "def find_boundary(h1, h2, dh = 1):\n",
    "    h12 = avg(h1, h2)\n",
    "    if abs(h2 - h1) < dh:\n",
    "        return h12\n",
    "    s1 = stability(h1)\n",
    "    s12 = stability(h12)\n",
    "    s2 = stability(h2)\n",
    "    assert s1 != s2\n",
    "    if s1 == s12:\n",
    "        return find_boundary(h12, h2, dh)\n",
    "    else:\n",
    "        return find_boundary(h1, h12, dh)\n",
    "\n",
    "def dg(height: float, dh: float = 1) -> float:\n",
    "    assert height > 0  # otherwise fix code to account for ring gravitation direction\n",
    "    r = RING_RADIUS - height\n",
    "    sun_g = G * SUN_MASS / (r ** 2)\n",
    "    ring_g = distance(integrate((r, 0, 0)))\n",
    "    sun_g2 = G * SUN_MASS / ((r-dh) ** 2)\n",
    "    ring_g2 = distance(integrate(((r-dh), 0, 0)))\n",
    "    return (sun_g2 - ring_g2) - (sun_g - ring_g), sun_g2 - sun_g, ring_g2 - ring_g\n",
    "\n",
    "def ring_side_potential(points=100, height = 1e6) -> float:\n",
    "    r = RING_RADIUS - height\n",
    "    acc = []\n",
    "    for i in range(points):\n",
    "        z = RING_WIDTH / 2 * i / (points - 1)\n",
    "        ring_g = integrate((r, 0, z))\n",
    "        _, _, az = ring_g\n",
    "        acc.append((az, z))\n",
    "    return scipy.integrate.simps(*zip(*acc))\n",
    "\n",
    "def scalar(v1: Point, v2: Point) -> float:\n",
    "    x1, y1, z1 = v1\n",
    "    x2, y2, z2 = v2\n",
    "    return x1*x2 + y1*y2 + z1*z2\n",
    "\n",
    "def mul_v(v: Point, a: float) -> Point:\n",
    "    x, y, z = v\n",
    "    return a*x, a*y, a*z\n",
    "\n",
    "\n",
    "def unit(v: Point) -> Point:\n",
    "    d = distance(v)\n",
    "    return mul_v(v, 1/d)\n",
    "\n",
    "\n",
    "def rotate_z(p: Point, alpha_rad: float) -> Point:\n",
    "    x, y, z = p\n",
    "    cs = math.cos(alpha_rad)\n",
    "    sn = math.sin(alpha_rad)\n",
    "    x = x * cs + y * sn\n",
    "    y = y * cs - x * sn\n",
    "    return x, y, z\n",
    "\n",
    "\n",
    "def leapfrog(time: float, p: Point, v: Point, fa: Callable[[Point], Point], dt: float = 1e4) -> List[Point]:\n",
    "    points = []\n",
    "    # https://en.wikipedia.org/wiki/Leapfrog_integration\n",
    "    points.append(p)\n",
    "    t = 0.\n",
    "    a_prev = fa(p)\n",
    "    while t <= time:\n",
    "        vdt = mul_v(v, dt)\n",
    "        p1 = sum_v(p, vdt, mul_v(a_prev, (dt**2) / 2))\n",
    "        a_cur = fa(p1)\n",
    "        v1 = sum_v(v, mul_v(sum_v(a_prev, a_cur), dt / 2))\n",
    "        # rotate vectors to keep y close to 0\n",
    "        for i in range(0):  #TODO ? 1 or 2\n",
    "            d = distance(p1)\n",
    "            alpha = p1[1] / d\n",
    "            p1 = rotate_z(p1, alpha)\n",
    "            v1 = rotate_z(v1, alpha)\n",
    "            a_cur = rotate_z(a_cur, alpha)\n",
    "        #assert abs(p1[1]) < 1\n",
    "        # save\n",
    "        points.append(p1)\n",
    "        v = v1\n",
    "        p = p1\n",
    "        a_prev = a_cur\n",
    "        t += dt\n",
    "    return points\n",
    "\n",
    "\n",
    "def ring_a(p: Point) -> Point:\n",
    "    ring_g_v = integrate(p)\n",
    "    sun_g = G * SUN_MASS / distance_square(p)\n",
    "    sun_g_v = mul_v(unit(p), -sun_g)\n",
    "    a = sum_v(ring_g_v, sun_g_v)\n",
    "    return a\n",
    "\n",
    "\n",
    "def run_ring(time: float, height: float, z: float, dt: float = 1e4):\n",
    "    #TODO use satellite_gv()?\n",
    "    r = RING_RADIUS - height\n",
    "    vector = (r, 0, z)\n",
    "    ring_g_v = integrate(vector)\n",
    "    ring_g = scalar(unit(vector), ring_g_v)\n",
    "    sun_g = G * SUN_MASS / distance_square(vector)\n",
    "    g = sun_g - ring_g\n",
    "    satellite_v = math.sqrt(g * distance(vector))\n",
    "    v = (0., satellite_v, 0.)\n",
    "    p = (r, 0., z)\n",
    "    return leapfrog(time, p, v, ring_a, dt)\n",
    "\n",
    "\n",
    "def draw_orbit(points: List[Point]) -> None:\n",
    "    _, _, zs = zip(*points)\n",
    "    xs = [RING_RADIUS - distance(p) for p in points]\n",
    "    plt.scatter(zs, xs)\n",
    "    plt.plot(zs, xs)\n",
    "    # ring line\n",
    "    rz, rx = (-RING_WIDTH/2, +RING_WIDTH/2), (0, 0)\n",
    "    plt.scatter(rz, rx)\n",
    "    plt.plot(rz, rx)\n",
    "    plt.gca().set_aspect('equal', adjustable='box')\n",
    "    plt.show()\n",
    "    "
   ]
  },
  {
   "cell_type": "code",
   "execution_count": 5,
   "id": "08996a2c",
   "metadata": {},
   "outputs": [
    {
     "name": "stdout",
     "output_type": "stream",
     "text": [
      "(8.969739767371894e-24, -6.28657265540301e-23, 0.0)\n",
      "(0.0005096442376344563, -1.2427893841607542e-11, -2.1564929441502453e-19)\n",
      "(-0.0005801376446593025, 1.5847479181097444e-11, 1.733770563911146e-21)\n",
      "(0.0005201188861631926, -1.2231437433203006e-14, 1.7205356741102976e-22)\n",
      "(0.0005301388183980967, 1.7078459376921522e-17, -1.0863197548536402e-19)\n",
      "(0.00022980742807548256, 3.8956649974613625e-19, 1.707300784309449e-21)\n",
      "(-3.727911871724076e-05, -1.2281638758735157e-08, 6.507860012873196e-19)\n"
     ]
    }
   ],
   "source": [
    "# test integrate()\n",
    "print(integrate((0,0,0)))\n",
    "print(integrate((RING_RADIUS - 1,0,0)))\n",
    "print(integrate((RING_RADIUS + 1,0,0)))\n",
    "print(integrate((RING_RADIUS - 1e3,0,0)))\n",
    "print(integrate((RING_RADIUS - 1e6,0,0)))\n",
    "print(integrate((RING_RADIUS - 1e9,0,0)))\n",
    "print(integrate((RING_RADIUS,0,0)))"
   ]
  },
  {
   "cell_type": "code",
   "execution_count": 6,
   "id": "3f40fa69",
   "metadata": {},
   "outputs": [
    {
     "name": "stdout",
     "output_type": "stream",
     "text": [
      "(0.005137255526383915, 28035.601621531372)\n",
      "(0.005137255258460756, 28035.60079884114)\n",
      "-0.02816873788833618\n",
      "True\n",
      "---\n",
      "0.019803285598754883\n",
      "False\n",
      "0.010334968566894531\n",
      "False\n",
      "---\n",
      "-0.0005118250846862793\n",
      "True\n"
     ]
    }
   ],
   "source": [
    "print(satellite_gv(1e6))\n",
    "print(satellite_gv(1e6+1e3))\n",
    "\n",
    "print(stability(1e6))\n",
    "print('---')\n",
    "print(stability(1e7/3))\n",
    "print(stability(1e9))\n",
    "print('---')\n",
    "print(stability(3e9))"
   ]
  },
  {
   "cell_type": "code",
   "execution_count": 10,
   "id": "5a751017",
   "metadata": {},
   "outputs": [
    {
     "name": "stdout",
     "output_type": "stream",
     "text": [
      "boundary\n",
      "2206939.3396377563\n",
      "2629883170.5935297\n"
     ]
    }
   ],
   "source": [
    "# region of instability - between 2,207 km and 2,63 Mkm\n",
    "print('boundary')\n",
    "print(find_boundary(1e6, 1e7/3))\n",
    "print(find_boundary(1e9, 3e9))"
   ]
  },
  {
   "cell_type": "code",
   "execution_count": 36,
   "id": "ae2e244f",
   "metadata": {},
   "outputs": [
    {
     "name": "stdout",
     "output_type": "stream",
     "text": [
      "(-2.674891558251957e-13, 7.408396812680351e-14, 3.415732323722165e-13)\n",
      "(3.595934314204463e-13, 7.408830493549345e-14, -2.8550512648495285e-13)\n",
      "(5.096843086471736e-13, 7.409784591461133e-14, -4.3558700483364854e-13)\n",
      "(9.343914531001474e-14, 9.073731349618086e-14, -2.702221448989614e-15)\n"
     ]
    }
   ],
   "source": [
    "# stability near ringworld is due sign change of ring dg\n",
    "print(dg(1e6))\n",
    "print(dg(1e7/3))\n",
    "print(dg(1e7))\n",
    "print(dg(1e10))"
   ]
  },
  {
   "cell_type": "code",
   "execution_count": 20,
   "id": "3a4f6229",
   "metadata": {},
   "outputs": [
    {
     "name": "stdout",
     "output_type": "stream",
     "text": [
      "ring_side_potential:\n",
      "-206998.19407977755\n",
      "-194531.82547191874\n",
      "-192228.1044553615\n"
     ]
    }
   ],
   "source": [
    "print('ring_side_potential:')  # so ring edge gravity potential is about 200 KJ\n",
    "print(ring_side_potential(points=10))\n",
    "print(ring_side_potential(points=30))\n",
    "print(ring_side_potential(points=100))"
   ]
  },
  {
   "cell_type": "code",
   "execution_count": 14,
   "id": "45786d9d",
   "metadata": {},
   "outputs": [
    {
     "data": {
      "image/png": "[encoded data removed]",
      "text/plain": [
       "<Figure size 432x288 with 1 Axes>"
      ]
     },
     "metadata": {
      "needs_background": "light"
     },
     "output_type": "display_data"
    }
   ],
   "source": [
    "height = 2e9\n",
    "r = RING_RADIUS - height\n",
    "p = (r, 0, 0)\n",
    "satellite_v = math.sqrt(distance(ring_a(p)) * distance(p))\n",
    "a_ring = distance(integrate(p))\n",
    "satellite_v2 = math.sqrt(a_ring * height)\n",
    "v = (0, satellite_v*1.02, satellite_v2*1.45)\n",
    "points3 = leapfrog(1e8, p, v, ring_a, dt=2e4)\n",
    "draw_orbit(points3)"
   ]
  },
  {
   "cell_type": "code",
   "execution_count": 21,
   "id": "69691393",
   "metadata": {},
   "outputs": [
    {
     "data": {
      "image/png": "[encoded data removed]",
      "text/plain": [
       "<Figure size 432x288 with 1 Axes>"
      ]
     },
     "metadata": {
      "needs_background": "light"
     },
     "output_type": "display_data"
    }
   ],
   "source": [
    "height = 1e9\n",
    "r = RING_RADIUS - height\n",
    "p = (r, 0, 0)\n",
    "satellite_v = math.sqrt(distance(ring_a(p)) * distance(p))\n",
    "a_ring = distance(integrate(p))\n",
    "satellite_v2 = math.sqrt(a_ring * height)\n",
    "v = (0, satellite_v*1.02, satellite_v2*1.55)\n",
    "points3 = leapfrog(1e8/4, p, v, ring_a, dt=2e4)\n",
    "draw_orbit(points3)"
   ]
  },
  {
   "cell_type": "code",
   "execution_count": 22,
   "id": "a3d810bc",
   "metadata": {},
   "outputs": [
    {
     "data": {
      "image/png": "[encoded data removed]",
      "text/plain": [
       "<Figure size 432x288 with 1 Axes>"
      ]
     },
     "metadata": {
      "needs_background": "light"
     },
     "output_type": "display_data"
    }
   ],
   "source": [
    "height = 1e9\n",
    "r = RING_RADIUS - height\n",
    "p = (r, 0, 0)\n",
    "satellite_v = math.sqrt(distance(ring_a(p)) * distance(p))\n",
    "a_ring = distance(integrate(p))\n",
    "satellite_v2 = math.sqrt(a_ring * height)\n",
    "v = (0, satellite_v*1.025, satellite_v2*1.65)\n",
    "points3 = leapfrog(1e8/4, p, v, ring_a, dt=2e4)\n",
    "draw_orbit(points3)"
   ]
  },
  {
   "cell_type": "code",
   "execution_count": 37,
   "id": "46ebd536",
   "metadata": {},
   "outputs": [
    {
     "data": {
      "image/png": "[encoded data removed]",
      "text/plain": [
       "<Figure size 432x288 with 1 Axes>"
      ]
     },
     "metadata": {
      "needs_background": "light"
     },
     "output_type": "display_data"
    }
   ],
   "source": [
    "height = 5e9\n",
    "r = RING_RADIUS - height\n",
    "p = (r, 0, 0)\n",
    "satellite_v = math.sqrt(distance(ring_a(p)) * distance(p))\n",
    "a_ring = distance(integrate(p))\n",
    "satellite_v2 = math.sqrt(a_ring * height)\n",
    "v = (0, satellite_v*1.02, satellite_v2*1.55)\n",
    "points3 = leapfrog(1e8/2, p, v, ring_a, dt=2e4)\n",
    "draw_orbit(points3)"
   ]
  },
  {
   "cell_type": "code",
   "execution_count": 27,
   "id": "d058fb0d",
   "metadata": {},
   "outputs": [],
   "source": [
    "EARTH_MASS = 5.972e24\n",
    "EARTH_RADIUS = 6.378e6"
   ]
  },
  {
   "cell_type": "code",
   "execution_count": 30,
   "id": "b8c4b9c6",
   "metadata": {},
   "outputs": [],
   "source": [
    "def earth_a(p: Point) -> Point:\n",
    "    earth_g = G * EARTH_MASS / distance_square(p)\n",
    "    earth_g_v = mul_v(unit(p), -earth_g)\n",
    "    return earth_g_v\n",
    "\n",
    "def draw_earth_orbit(points: List[Point]) -> None:\n",
    "    xs, ys, _ = zip(*points)\n",
    "    plt.scatter(xs, ys)\n",
    "    plt.plot(xs, ys)\n",
    "    plt.gca().set_aspect('equal', adjustable='box')\n",
    "    plt.show()"
   ]
  },
  {
   "cell_type": "code",
   "execution_count": 31,
   "id": "e7ef8342",
   "metadata": {},
   "outputs": [
    {
     "data": {
      "image/png": "[encoded data removed]",
      "text/plain": [
       "<Figure size 432x288 with 1 Axes>"
      ]
     },
     "metadata": {
      "needs_background": "light"
     },
     "output_type": "display_data"
    }
   ],
   "source": [
    "r = EARTH_RADIUS + 3e5\n",
    "p = (r, 0, 1e6)\n",
    "satellite_v = math.sqrt(distance(earth_a(p)) * distance(p))\n",
    "v = (0, satellite_v*1.25, 0)\n",
    "\n",
    "points = leapfrog(24.9e3, p, v, earth_a, 1e2)\n",
    "draw_earth_orbit(points)"
   ]
  },
  {
   "cell_type": "code",
   "execution_count": null,
   "id": "68158e9c",
   "metadata": {},
   "outputs": [],
   "source": []
  }
 ],
 "metadata": {
  "kernelspec": {
   "display_name": "Python 3 (ipykernel)",
   "language": "python",
   "name": "python3"
  },
  "language_info": {
   "codemirror_mode": {
    "name": "ipython",
    "version": 3
   },
   "file_extension": ".py",
   "mimetype": "text/x-python",
   "name": "python",
   "nbconvert_exporter": "python",
   "pygments_lexer": "ipython3",
   "version": "3.9.7"
  }
 },
 "nbformat": 4,
 "nbformat_minor": 5
}
